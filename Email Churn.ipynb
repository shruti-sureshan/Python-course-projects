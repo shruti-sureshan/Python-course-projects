{
 "cells": [
  {
   "cell_type": "code",
   "execution_count": 1,
   "metadata": {},
   "outputs": [
    {
     "name": "stdout",
     "output_type": "stream",
     "text": [
      "1910\n"
     ]
    },
    {
     "data": {
      "text/plain": [
       "1910"
      ]
     },
     "execution_count": 1,
     "metadata": {},
     "output_type": "execute_result"
    }
   ],
   "source": [
    "#Count the Number of Lines\n",
    "def number_of_lines():\n",
    "    fhand = open('/cxldata/datasets/project/mbox-short.txt')\n",
    "    inp = fhand.read()\n",
    "    fhand.close()\n",
    "    count=len(inp.splitlines())\n",
    "    print(count)\n",
    "    return count\n",
    "number_of_lines()"
   ]
  },
  {
   "cell_type": "code",
   "execution_count": 4,
   "metadata": {},
   "outputs": [
    {
     "data": {
      "text/plain": [
       "27"
      ]
     },
     "execution_count": 4,
     "metadata": {},
     "output_type": "execute_result"
    }
   ],
   "source": [
    "#Count the Number of Subject Lines\n",
    "def count_number_of_lines():\n",
    "    fhand = open(\"/cxldata/datasets/project/mbox-short.txt\", \"r\")\n",
    "    count = 0\n",
    "    for line in fhand:\n",
    "        line = line.rstrip()\n",
    "        if line.startswith('Subject:'):\n",
    "            count = count + 1\n",
    "    return count\n",
    "count_number_of_lines()"
   ]
  },
  {
   "cell_type": "code",
   "execution_count": 5,
   "metadata": {},
   "outputs": [
    {
     "name": "stdout",
     "output_type": "stream",
     "text": [
      "The average spam confidence in a given text file is 0.7507185185185187\n"
     ]
    }
   ],
   "source": [
    "#Find Average Spam Confidence\n",
    "def average_spam_confidence():\n",
    "    fhand=open('/cxldata/datasets/project/mbox-short.txt')\n",
    "    count=0\n",
    "    r=[]\n",
    "    for line in fhand:\n",
    "        line=line.strip()\n",
    "        if line.startswith(\"X-DSPAM-Confidence:\"):\n",
    "            var,num=line.split(':')\n",
    "            r.append(float(num))\n",
    "            count=count+1\n",
    "    avg=sum(r)/count\n",
    "    return (avg)\n",
    "print('The average spam confidence in a given text file is',average_spam_confidence())"
   ]
  },
  {
   "cell_type": "code",
   "execution_count": 6,
   "metadata": {},
   "outputs": [
    {
     "data": {
      "text/plain": [
       "{'Sat': 1, 'Fri': 20, 'Thu': 6}"
      ]
     },
     "execution_count": 6,
     "metadata": {},
     "output_type": "execute_result"
    }
   ],
   "source": [
    "#Find Which Day of the Week the Email was sent\n",
    "def find_email_sent_days():\n",
    "    fhand = open('/cxldata/datasets/project/mbox-short.txt')\n",
    "    week_list={}\n",
    "    days_list={}\n",
    "    for line in fhand:\n",
    "        line=line.strip()\n",
    "        days_list=line.split()\n",
    "        if line.startswith(\"From\") and len(days_list)>2:\n",
    "            week=days_list[2]\n",
    "            if week in week_list:\n",
    "                week_list[week]+=1\n",
    "            else:\n",
    "                week_list[week]=1\n",
    "    return week_list\n",
    "find_email_sent_days()    \n",
    "    "
   ]
  },
  {
   "cell_type": "code",
   "execution_count": 7,
   "metadata": {},
   "outputs": [
    {
     "name": "stdout",
     "output_type": "stream",
     "text": [
      "Number of messages from each email are {'stephen.marquard@uct.ac.za': 2, 'louis@media.berkeley.edu': 3, 'zqian@umich.edu': 4, 'rjlowe@iupui.edu': 2, 'cwen@iupui.edu': 5, 'gsilver@umich.edu': 3, 'wagnermr@iupui.edu': 1, 'antranig@caret.cam.ac.uk': 1, 'gopal.ramasammycook@gmail.com': 1, 'david.horwitz@uct.ac.za': 4, 'ray@media.berkeley.edu': 1}\n"
     ]
    }
   ],
   "source": [
    "#Count Number of Messages From Each Email Address\n",
    "def count_message_from_email():\n",
    "    lineslist=[]\n",
    "    emaildict={}\n",
    "    fhand=open('/cxldata/datasets/project/mbox-short.txt')\n",
    "    for line in fhand:\n",
    "        lineslist=line.split()\n",
    "        if line.startswith('From:'):\n",
    "            email=lineslist[1]\n",
    "            if email not in emaildict:\n",
    "                emaildict[email]=1\n",
    "            else:\n",
    "                emaildict[email]+=1\n",
    "    return emaildict\n",
    "print('Number of messages from each email are',count_message_from_email())\n"
   ]
  },
  {
   "cell_type": "code",
   "execution_count": 8,
   "metadata": {},
   "outputs": [
    {
     "data": {
      "text/plain": [
       "{'uct.ac.za': 6,\n",
       " 'media.berkeley.edu': 4,\n",
       " 'umich.edu': 7,\n",
       " 'iupui.edu': 8,\n",
       " 'caret.cam.ac.uk': 1,\n",
       " 'gmail.com': 1}"
      ]
     },
     "execution_count": 8,
     "metadata": {},
     "output_type": "execute_result"
    }
   ],
   "source": [
    "#Count Number of Messages From Each Domain\n",
    "def count_message_from_domain():\n",
    "    fhand=open('/cxldata/datasets/project/mbox-short.txt','r')\n",
    "    dictc={}\n",
    "    for line in fhand:\n",
    "        line=line.strip()\n",
    "        if line.startswith('From:'):\n",
    "            domain=line.split('@')\n",
    "            dictc[domain[1]]=dictc.get(domain[1],0)+1\n",
    "    return dictc\n",
    "count_message_from_domain()"
   ]
  },
  {
   "cell_type": "code",
   "execution_count": null,
   "metadata": {},
   "outputs": [],
   "source": []
  }
 ],
 "metadata": {
  "kernelspec": {
   "display_name": "Python 3",
   "language": "python",
   "name": "python3"
  },
  "language_info": {
   "codemirror_mode": {
    "name": "ipython",
    "version": 3
   },
   "file_extension": ".py",
   "mimetype": "text/x-python",
   "name": "python",
   "nbconvert_exporter": "python",
   "pygments_lexer": "ipython3",
   "version": "3.7.3"
  },
  "toc": {
   "base_numbering": 1,
   "nav_menu": {},
   "number_sections": true,
   "sideBar": true,
   "skip_h1_title": false,
   "title_cell": "Table of Contents",
   "title_sidebar": "Contents",
   "toc_cell": false,
   "toc_position": {},
   "toc_section_display": true,
   "toc_window_display": false
  }
 },
 "nbformat": 4,
 "nbformat_minor": 2
}
